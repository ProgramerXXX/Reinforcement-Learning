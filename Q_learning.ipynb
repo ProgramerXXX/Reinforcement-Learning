{
  "nbformat": 4,
  "nbformat_minor": 0,
  "metadata": {
    "colab": {
      "name": "Q_learning.ipynb",
      "provenance": []
    },
    "kernelspec": {
      "name": "python3",
      "display_name": "Python 3"
    },
    "language_info": {
      "name": "python"
    },
    "accelerator": "GPU"
  },
  "cells": [
    {
      "cell_type": "code",
      "execution_count": 1,
      "metadata": {
        "colab": {
          "base_uri": "https://localhost:8080/"
        },
        "id": "EuMlltq2uRun",
        "outputId": "f638a7b2-d002-45d5-a791-93070247f69e"
      },
      "outputs": [
        {
          "output_type": "stream",
          "name": "stdout",
          "text": [
            "Requirement already satisfied: numpy in /usr/local/lib/python3.7/dist-packages (1.21.6)\n",
            "Requirement already satisfied: gym in /usr/local/lib/python3.7/dist-packages (0.17.3)\n",
            "Requirement already satisfied: matplotlib in /usr/local/lib/python3.7/dist-packages (3.2.2)\n",
            "Requirement already satisfied: pyglet<=1.5.0,>=1.4.0 in /usr/local/lib/python3.7/dist-packages (from gym) (1.5.0)\n",
            "Requirement already satisfied: cloudpickle<1.7.0,>=1.2.0 in /usr/local/lib/python3.7/dist-packages (from gym) (1.3.0)\n",
            "Requirement already satisfied: scipy in /usr/local/lib/python3.7/dist-packages (from gym) (1.4.1)\n",
            "Requirement already satisfied: future in /usr/local/lib/python3.7/dist-packages (from pyglet<=1.5.0,>=1.4.0->gym) (0.16.0)\n",
            "Requirement already satisfied: pyparsing!=2.0.4,!=2.1.2,!=2.1.6,>=2.0.1 in /usr/local/lib/python3.7/dist-packages (from matplotlib) (3.0.8)\n",
            "Requirement already satisfied: python-dateutil>=2.1 in /usr/local/lib/python3.7/dist-packages (from matplotlib) (2.8.2)\n",
            "Requirement already satisfied: cycler>=0.10 in /usr/local/lib/python3.7/dist-packages (from matplotlib) (0.11.0)\n",
            "Requirement already satisfied: kiwisolver>=1.0.1 in /usr/local/lib/python3.7/dist-packages (from matplotlib) (1.4.2)\n",
            "Requirement already satisfied: typing-extensions in /usr/local/lib/python3.7/dist-packages (from kiwisolver>=1.0.1->matplotlib) (4.2.0)\n",
            "Requirement already satisfied: six>=1.5 in /usr/local/lib/python3.7/dist-packages (from python-dateutil>=2.1->matplotlib) (1.15.0)\n"
          ]
        }
      ],
      "source": [
        "!pip install numpy gym matplotlib"
      ]
    },
    {
      "cell_type": "code",
      "source": [
        "import gym\n",
        "import numpy as np"
      ],
      "metadata": {
        "id": "KZmp-1fBuXFb"
      },
      "execution_count": 2,
      "outputs": []
    },
    {
      "cell_type": "code",
      "source": [
        "import math\n",
        "\n",
        "env = gym.make(\"CartPole-v0\")\n",
        "\n",
        "new_observation_shape = (20, 20, 20, 20)\n",
        "\n",
        "bins = []\n",
        "for i in range(4):\n",
        "    item = np.linspace(\n",
        "        env.observation_space.low[i] if (i == 0) or (i == 2) else -4,\n",
        "        env.observation_space.high[i] if (i == 0) or (i == 2) else 4,\n",
        "        num=new_observation_shape[i],\n",
        "        endpoint=False)\n",
        "    item = np.delete(item, 0)\n",
        "    bins.append(item)\n",
        "    print(bins[i])\n",
        "\n",
        "# define function to convert to discrete state\n",
        "def get_discrete_state(s):\n",
        "    new_s = []\n",
        "    for i in range(4):\n",
        "        new_s.append(np.digitize(s[i], bins[i]))\n",
        "    return new_s"
      ],
      "metadata": {
        "colab": {
          "base_uri": "https://localhost:8080/"
        },
        "id": "Zh9O2oNqualO",
        "outputId": "6f67a18b-48ae-4261-a6e9-0bb69145035d"
      },
      "execution_count": 3,
      "outputs": [
        {
          "output_type": "stream",
          "name": "stdout",
          "text": [
            "[-4.32000017 -3.84000015 -3.36000013 -2.88000011 -2.4000001  -1.92000008\n",
            " -1.44000006 -0.96000004 -0.48000002  0.          0.48000002  0.96000004\n",
            "  1.44000006  1.92000008  2.4000001   2.88000011  3.36000013  3.84000015\n",
            "  4.32000017]\n",
            "[-3.6 -3.2 -2.8 -2.4 -2.  -1.6 -1.2 -0.8 -0.4  0.   0.4  0.8  1.2  1.6\n",
            "  2.   2.4  2.8  3.2  3.6]\n",
            "[-0.37699113 -0.33510323 -0.29321532 -0.25132742 -0.20943952 -0.16755161\n",
            " -0.12566371 -0.08377581 -0.0418879   0.          0.0418879   0.08377581\n",
            "  0.12566371  0.16755161  0.20943952  0.25132742  0.29321532  0.33510323\n",
            "  0.37699113]\n",
            "[-3.6 -3.2 -2.8 -2.4 -2.  -1.6 -1.2 -0.8 -0.4  0.   0.4  0.8  1.2  1.6\n",
            "  2.   2.4  2.8  3.2  3.6]\n"
          ]
        }
      ]
    },
    {
      "cell_type": "code",
      "source": [
        "q_table = np.zeros(new_observation_shape + (env.action_space.n,))\n",
        "q_table.shape"
      ],
      "metadata": {
        "colab": {
          "base_uri": "https://localhost:8080/"
        },
        "id": "Nc3s6sOBudB4",
        "outputId": "706d55e3-6517-48ee-efd4-ab8276a6dc57"
      },
      "execution_count": 4,
      "outputs": [
        {
          "output_type": "execute_result",
          "data": {
            "text/plain": [
              "(20, 20, 20, 20, 2)"
            ]
          },
          "metadata": {},
          "execution_count": 4
        }
      ]
    },
    {
      "cell_type": "code",
      "source": [
        "gamma = 0.99\n",
        "alpha = 0.1\n",
        "epsilon = 1\n",
        "epsilon_decay = epsilon / 4000\n",
        "\n",
        "# pick up action from q-table with greedy exploration\n",
        "def pick_sample(s, episode_num):\n",
        "    # get optimal action,\n",
        "    # but with greedy exploration (to prevent picking up same values in the first stage)\n",
        "    if np.random.random() > epsilon:\n",
        "        a = np.argmax(q_table[tuple(s)])\n",
        "    else:\n",
        "        a = np.random.randint(0, env.action_space.n)\n",
        "    return a\n",
        "\n",
        "env = gym.make(\"CartPole-v0\")\n",
        "reward_records = []\n",
        "for i in range(6000):\n",
        "    # Run episode till done\n",
        "    done = False\n",
        "    total_reward = 0\n",
        "    s = env.reset()\n",
        "    s_dis = get_discrete_state(s)\n",
        "    while not done:\n",
        "        a = pick_sample(s_dis, i)\n",
        "        s, r, done, _ = env.step(a)\n",
        "        s_dis_next = get_discrete_state(s)\n",
        "\n",
        "        # Update Q-Table\n",
        "        maxQ = np.max(q_table[tuple(s_dis_next)])\n",
        "        q_table[tuple(s_dis)][a] += alpha * (r + gamma * maxQ - q_table[tuple(s_dis)][a])\n",
        "\n",
        "        s_dis = s_dis_next\n",
        "        total_reward += r\n",
        "\n",
        "    # Update epsilon for each episode\n",
        "    if epsilon - epsilon_decay >= 0:\n",
        "        epsilon -= epsilon_decay\n",
        "    \n",
        "    # Record total rewards in episode (max 200)\n",
        "    print(\"Run episode{} with rewards {}\".format(i, total_reward), end=\"\\r\")\n",
        "    reward_records.append(total_reward)\n",
        "\n",
        "print(\"\\nDone\")\n",
        "env.close()"
      ],
      "metadata": {
        "colab": {
          "base_uri": "https://localhost:8080/"
        },
        "id": "GG6e-CoHuexZ",
        "outputId": "1edf1b04-b459-48fa-d76b-df43948e31d8"
      },
      "execution_count": 5,
      "outputs": [
        {
          "output_type": "stream",
          "name": "stdout",
          "text": [
            "Run episode5999 with rewards 200.0\n",
            "Done\n"
          ]
        }
      ]
    },
    {
      "cell_type": "code",
      "source": [
        "import matplotlib.pyplot as plt\n",
        "plt.plot(reward_records)"
      ],
      "metadata": {
        "id": "ozSMtkoGuhuE",
        "colab": {
          "base_uri": "https://localhost:8080/",
          "height": 283
        },
        "outputId": "3e5dfc81-a41a-4220-8ddd-7d0a3fbb26f4"
      },
      "execution_count": 6,
      "outputs": [
        {
          "output_type": "execute_result",
          "data": {
            "text/plain": [
              "[<matplotlib.lines.Line2D at 0x7f4147b38d90>]"
            ]
          },
          "metadata": {},
          "execution_count": 6
        },
        {
          "output_type": "display_data",
          "data": {
            "text/plain": [
              "<Figure size 432x288 with 1 Axes>"
            ],
            "image/png": "[encoded data removed]"
          },
          "metadata": {
            "needs_background": "light"
          }
        }
      ]
    },
    {
      "cell_type": "code",
      "source": [
        ""
      ],
      "metadata": {
        "id": "e-Kjtk6tujiE"
      },
      "execution_count": null,
      "outputs": []
    }
  ]
}